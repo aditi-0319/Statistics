{
 "cells": [
  {
   "cell_type": "code",
   "execution_count": 1,
   "metadata": {},
   "outputs": [],
   "source": [
    "import numpy as np \n",
    "import matplotlib.pyplot as plt\n",
    "import pandas as pd\n",
    "from scipy.stats import pearsonr"
   ]
  },
  {
   "cell_type": "code",
   "execution_count": 2,
   "metadata": {},
   "outputs": [
    {
     "name": "stdout",
     "output_type": "stream",
     "text": [
      "       x      y\n",
      "0   75.1  577.8\n",
      "1   74.3  577.0\n",
      "2   88.7  570.9\n",
      "3  114.6  578.6\n",
      "4   98.5  572.4\n",
      "5  112.0  411.2\n",
      "6  114.8  531.7\n",
      "7   62.2  563.9\n"
     ]
    }
   ],
   "source": [
    "x=[75.1,74.3,88.7,114.6,98.5,112,114.8,62.2]\n",
    "y=[577.8,577,570.9,578.6,572.4,411.2,531.7,563.9]\n",
    "df={\"x\":x,\"y\":y}\n",
    "df=pd.DataFrame(df)\n",
    "df['x']=df['x'].astype(np.float64)\n",
    "df['y']=df['y'].astype(np.float64)\n",
    "print(df)"
   ]
  },
  {
   "cell_type": "code",
   "execution_count": 4,
   "metadata": {},
   "outputs": [
    {
     "name": "stdout",
     "output_type": "stream",
     "text": [
      "Pearsons correlation: -0.463\n"
     ]
    }
   ],
   "source": [
    "corr, _ = pearsonr(x,y)\n",
    "print('Pearsons correlation: %.3f' % corr)"
   ]
  }
 ],
 "metadata": {
  "kernelspec": {
   "display_name": "Python 3.10.8 64-bit (microsoft store)",
   "language": "python",
   "name": "python3"
  },
  "language_info": {
   "codemirror_mode": {
    "name": "ipython",
    "version": 3
   },
   "file_extension": ".py",
   "mimetype": "text/x-python",
   "name": "python",
   "nbconvert_exporter": "python",
   "pygments_lexer": "ipython3",
   "version": "3.10.9 (tags/v3.10.9:1dd9be6, Dec  6 2022, 20:01:21) [MSC v.1934 64 bit (AMD64)]"
  },
  "orig_nbformat": 4,
  "vscode": {
   "interpreter": {
    "hash": "c90c449489b725a1ae8d6956528ae36051e7d8d1f0bf55c9e2fc47cd79f8bafb"
   }
  }
 },
 "nbformat": 4,
 "nbformat_minor": 2
}
