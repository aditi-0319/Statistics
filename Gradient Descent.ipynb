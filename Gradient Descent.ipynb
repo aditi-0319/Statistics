{
 "cells": [
  {
   "cell_type": "code",
   "execution_count": 16,
   "metadata": {},
   "outputs": [],
   "source": [
    "import numpy as np\n",
    "import matplotlib.pyplot as plt\n",
    "import pandas as pd\n",
    "import seaborn as sns"
   ]
  },
  {
   "cell_type": "code",
   "execution_count": 22,
   "metadata": {},
   "outputs": [
    {
     "name": "stdout",
     "output_type": "stream",
     "text": [
      "       x      y\n",
      "0   75.1  577.8\n",
      "1   74.3  577.0\n",
      "2   88.7  570.9\n",
      "3  114.6  578.6\n",
      "4   98.5  572.4\n",
      "5  112.0  411.2\n",
      "6  114.8  531.7\n",
      "7   62.2  563.9\n"
     ]
    }
   ],
   "source": [
    "x=[75.1,74.3,88.7,114.6,98.5,112,114.8,62.2]\n",
    "y=[577.8,577,570.9,578.6,572.4,411.2,531.7,563.9]\n",
    "\n",
    "data = {\"x\":x,\"y\":y}\n",
    "Data=pd.DataFrame(data)\n",
    "Data['x']=Data['x'].astype(np.float64)\n",
    "Data['y']=Data['y'].astype(np.float64)\n",
    "print(Data)"
   ]
  },
  {
   "cell_type": "code",
   "execution_count": 27,
   "metadata": {},
   "outputs": [
    {
     "name": "stdout",
     "output_type": "stream",
     "text": [
      "Summation of x : 740.1999999999999\n",
      "Summation of y : 4383.499999999999\n"
     ]
    }
   ],
   "source": [
    "Summation_of_x = sum(x)\n",
    "print(\"Summation of x :\",Summation_of_x)\n",
    "Summation_of_y = sum(y)\n",
    "print(\"Summation of y :\",Summation_of_y)"
   ]
  },
  {
   "cell_type": "code",
   "execution_count": 18,
   "metadata": {},
   "outputs": [],
   "source": [
    "alpha=0.01\n",
    "b0=0\n",
    "b1=0\n",
    "a=0\n",
    "b=0\n"
   ]
  },
  {
   "cell_type": "code",
   "execution_count": 21,
   "metadata": {},
   "outputs": [
    {
     "name": "stdout",
     "output_type": "stream",
     "text": [
      "Iteration : b0 = -7.473037067594574e+75, b1 = -4.151120025917997e+77\n",
      "Iteration : b0 = -3.523404602910779e+83, b1 = -1.9571795609013934e+85\n",
      "Iteration : b0 = -1.661222858059344e+91, b1 = -9.227754942506315e+92\n",
      "Iteration : b0 = -7.832371513220551e+98, b1 = -4.3507229985445285e+100\n",
      "Iteration : b0 = -3.692824428913396e+106, b1 = -2.0512888268057008e+108\n",
      "Iteration : b0 = -1.7411013049829444e+114, b1 = -9.671463461097292e+115\n",
      "Iteration : b0 = -8.208984241109195e+121, b1 = -4.559923705380761e+123\n",
      "Iteration : b0 = -3.8703906589421134e+129, b1 = -2.149923254379366e+131\n",
      "Iteration : b0 = -1.824820637102635e+137, b1 = -1.0136507315389844e+139\n"
     ]
    }
   ],
   "source": [
    "for j in range (9):\n",
    "    a=0\n",
    "    b=0\n",
    "    for i in range(8):\n",
    "        a=a +(b0+b1*x[i]-y[i])\n",
    "        b=b +((b0+(b1*x[i])-y[i])*x[i])\n",
    "        a = a/8\n",
    "        a=a*alpha\n",
    "        temp0 = b0-a\n",
    "        b = b/8\n",
    "        b=b*alpha\n",
    "        temp1 =b1-b\n",
    "        b0=temp0\n",
    "        b1=temp1\n",
    "    print(f\"Iteration : b0 = {b0}, b1 = {b1}\")"
   ]
  }
 ],
 "metadata": {
  "kernelspec": {
   "display_name": "Python 3.10.8 64-bit (microsoft store)",
   "language": "python",
   "name": "python3"
  },
  "language_info": {
   "codemirror_mode": {
    "name": "ipython",
    "version": 3
   },
   "file_extension": ".py",
   "mimetype": "text/x-python",
   "name": "python",
   "nbconvert_exporter": "python",
   "pygments_lexer": "ipython3",
   "version": "3.10.9 (tags/v3.10.9:1dd9be6, Dec  6 2022, 20:01:21) [MSC v.1934 64 bit (AMD64)]"
  },
  "orig_nbformat": 4,
  "vscode": {
   "interpreter": {
    "hash": "c90c449489b725a1ae8d6956528ae36051e7d8d1f0bf55c9e2fc47cd79f8bafb"
   }
  }
 },
 "nbformat": 4,
 "nbformat_minor": 2
}
