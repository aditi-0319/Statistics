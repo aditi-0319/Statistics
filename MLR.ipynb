{
 "cells": [
  {
   "cell_type": "code",
   "execution_count": 2,
   "metadata": {},
   "outputs": [],
   "source": [
    "import numpy as np\n",
    "import pandas as pd"
   ]
  },
  {
   "cell_type": "code",
   "execution_count": 3,
   "metadata": {},
   "outputs": [
    {
     "name": "stdout",
     "output_type": "stream",
     "text": [
      "     x1    x2      y\n",
      "0  73.0  80.0  152.0\n",
      "1  93.0  88.0  185.0\n",
      "2  89.0  91.0  180.0\n",
      "3  96.0  98.0  196.0\n",
      "4  73.0  66.0  142.0\n",
      "5  53.0  46.0  101.0\n",
      "6  69.0  74.0  149.0\n",
      "7  47.0  56.0  115.0\n"
     ]
    }
   ],
   "source": [
    "x1=[73,93,89,96,73,53,69,47]\n",
    "x2=[80,88,91,98,66,46,74,56]\n",
    "y=[152,185,180,196,142,101,149,115]\n",
    "df={\"x1\":x1,\"x2\":x2,\"y\":y}\n",
    "df=pd.DataFrame(df)\n",
    "df['x1']=df['x1'].astype(np.float64)\n",
    "df['x2']=df['x2'].astype(np.float64)\n",
    "df['y']=df['y'].astype(np.float64)\n",
    "print(df)"
   ]
  },
  {
   "cell_type": "code",
   "execution_count": 4,
   "metadata": {},
   "outputs": [
    {
     "name": "stdout",
     "output_type": "stream",
     "text": [
      "0    5329.0\n",
      "1    8649.0\n",
      "2    7921.0\n",
      "3    9216.0\n",
      "4    5329.0\n",
      "5    2809.0\n",
      "6    4761.0\n",
      "7    2209.0\n",
      "Name: x1, dtype: float64\n"
     ]
    }
   ],
   "source": [
    "sqx1=df.x1**2\n",
    "print(sqx1)"
   ]
  },
  {
   "cell_type": "code",
   "execution_count": 5,
   "metadata": {},
   "outputs": [
    {
     "name": "stdout",
     "output_type": "stream",
     "text": [
      "0    6400.0\n",
      "1    7744.0\n",
      "2    8281.0\n",
      "3    9604.0\n",
      "4    4356.0\n",
      "5    2116.0\n",
      "6    5476.0\n",
      "7    3136.0\n",
      "Name: x2, dtype: float64\n"
     ]
    }
   ],
   "source": [
    "sqx2=df.x2**2\n",
    "print(sqx2)"
   ]
  },
  {
   "cell_type": "code",
   "execution_count": 6,
   "metadata": {},
   "outputs": [
    {
     "name": "stdout",
     "output_type": "stream",
     "text": [
      "Summation of square of x1 :  46223.0\n",
      "Summation of square of x2 :  47113.0\n",
      "Summation of x1 :  593.0\n",
      "Summation of x2 :  599.0\n",
      "Summation of y :  1220.0\n"
     ]
    }
   ],
   "source": [
    "sumsqx1=sqx1.sum()\n",
    "print(\"Summation of square of x1 : \",sumsqx1)\n",
    "\n",
    "sumsqx2=sqx2.sum()\n",
    "print(\"Summation of square of x2 : \",sumsqx2)\n",
    "\n",
    "sumx1=df.x1.sum()\n",
    "print(\"Summation of x1 : \",sumx1)\n",
    "\n",
    "sumx2=df.x2.sum()\n",
    "print(\"Summation of x2 : \",sumx2)\n",
    "\n",
    "sumy=df.y.sum()\n",
    "print(\"Summation of y : \",sumy)"
   ]
  },
  {
   "cell_type": "code",
   "execution_count": 7,
   "metadata": {},
   "outputs": [
    {
     "name": "stdout",
     "output_type": "stream",
     "text": [
      "0    5840.0\n",
      "1    8184.0\n",
      "2    8099.0\n",
      "3    9408.0\n",
      "4    4818.0\n",
      "5    2438.0\n",
      "6    5106.0\n",
      "7    2632.0\n",
      "dtype: float64\n",
      "0    12160.0\n",
      "1    16280.0\n",
      "2    16380.0\n",
      "3    19208.0\n",
      "4     9372.0\n",
      "5     4646.0\n",
      "6    11026.0\n",
      "7     6440.0\n",
      "dtype: float64\n",
      "0    11096.0\n",
      "1    17205.0\n",
      "2    16020.0\n",
      "3    18816.0\n",
      "4    10366.0\n",
      "5     5353.0\n",
      "6    10281.0\n",
      "7     5405.0\n",
      "dtype: float64\n"
     ]
    }
   ],
   "source": [
    "x1x2=df.x1*df.x2\n",
    "print(x1x2)\n",
    "\n",
    "x2y=df.x2*df.y\n",
    "print(x2y)\n",
    "\n",
    "x1y=df.x1*df.y\n",
    "print(x1y)"
   ]
  },
  {
   "cell_type": "code",
   "execution_count": 8,
   "metadata": {},
   "outputs": [
    {
     "name": "stdout",
     "output_type": "stream",
     "text": [
      "Summation of x1x2 : 46525.0\n",
      "Summation of x2y : 95512.0\n",
      "Summation of x1y : 94542.0\n"
     ]
    }
   ],
   "source": [
    "sumx1x2=x1x2.sum()\n",
    "print(\"Summation of x1x2 :\",sumx1x2)\n",
    "\n",
    "sumx2y=x2y.sum()\n",
    "print(\"Summation of x2y :\",sumx2y)\n",
    "\n",
    "sumx1y=x1y.sum()\n",
    "print(\"Summation of x1y :\",sumx1y)"
   ]
  },
  {
   "cell_type": "code",
   "execution_count": 9,
   "metadata": {},
   "outputs": [
    {
     "name": "stdout",
     "output_type": "stream",
     "text": [
      "Mean of y : 152.5\n",
      "Mean of x1 : 74.125\n",
      "Mean of x2 : 74.875\n"
     ]
    }
   ],
   "source": [
    "meany=df.y.mean()\n",
    "print(\"Mean of y :\",meany)\n",
    "\n",
    "meanx1=df.x1.mean()\n",
    "print(\"Mean of x1 :\",meanx1)\n",
    "\n",
    "meanx2=df.x2.mean()\n",
    "print(\"Mean of x2 :\",meanx2)"
   ]
  },
  {
   "cell_type": "code",
   "execution_count": 11,
   "metadata": {},
   "outputs": [
    {
     "name": "stdout",
     "output_type": "stream",
     "text": [
      "Regression sum of x1^2 : 2266.875\n",
      "Regression sum of x2^2 : 2262.875\n",
      "Regression sum of x1y : 4109.5\n",
      "Regression sum of x2y : 4164.5\n",
      "Regression sum of x1x2 : 2124.125\n"
     ]
    }
   ],
   "source": [
    "rsumsqx1=sumsqx1-((sumx1**2)/8)\n",
    "print(\"Regression sum of x1^2 :\",rsumsqx1)\n",
    "\n",
    "rsumsqx2=sumsqx2-((sumx2**2)/8)\n",
    "print(\"Regression sum of x2^2 :\",rsumsqx2)\n",
    "\n",
    "rsumx1y=sumx1y-((sumx1*sumy)/8)\n",
    "print(\"Regression sum of x1y :\",rsumx1y)\n",
    "\n",
    "rsumx2y=sumx2y-((sumx2*sumy)/8)\n",
    "print(\"Regression sum of x2y :\",rsumx2y)\n",
    "\n",
    "rsumx1x2=sumx1x2-((sumx1*sumx2)/8)\n",
    "print(\"Regression sum of x1x2 :\",rsumx1x2)\n"
   ]
  },
  {
   "cell_type": "code",
   "execution_count": 1,
   "metadata": {},
   "outputs": [
    {
     "ename": "NameError",
     "evalue": "name 'rsumsqx2' is not defined",
     "output_type": "error",
     "traceback": [
      "\u001b[1;31m---------------------------------------------------------------------------\u001b[0m",
      "\u001b[1;31mNameError\u001b[0m                                 Traceback (most recent call last)",
      "Cell \u001b[1;32mIn [1], line 1\u001b[0m\n\u001b[1;32m----> 1\u001b[0m b1\u001b[39m=\u001b[39m((rsumsqx2\u001b[39m*\u001b[39mrsumx1y)\u001b[39m-\u001b[39m(rsumx1x2\u001b[39m*\u001b[39mrsumx2y))\u001b[39m-\u001b[39m((rsumsqx1\u001b[39m*\u001b[39mrsumsqx2)\u001b[39m-\u001b[39mrsumx1x2)\n\u001b[0;32m      2\u001b[0m \u001b[39mprint\u001b[39m(\u001b[39m\"\u001b[39m\u001b[39mb1 :\u001b[39m\u001b[39m\"\u001b[39m,b1)\n\u001b[0;32m      4\u001b[0m b2\u001b[39m=\u001b[39m((rsumsqx1\u001b[39m*\u001b[39mrsumx2y)\u001b[39m-\u001b[39m(rsumx1x2\u001b[39m*\u001b[39mrsumx1y))\u001b[39m/\u001b[39m((rsumsqx1\u001b[39m*\u001b[39mrsumsqx2)\u001b[39m-\u001b[39mrsumx1x2)\n",
      "\u001b[1;31mNameError\u001b[0m: name 'rsumsqx2' is not defined"
     ]
    }
   ],
   "source": [
    "b1=((rsumsqx2*rsumx1y)-(rsumx1x2*rsumx2y))-((rsumsqx1*rsumsqx2)-rsumx1x2)\n",
    "print(\"b1 :\",b1)\n",
    "\n",
    "b2=((rsumsqx1*rsumx2y)-(rsumx1x2*rsumx1y))/((rsumsqx1*rsumsqx2)-rsumx1x2)\n",
    "print(\"b2 :\",b2)\n"
   ]
  },
  {
   "cell_type": "code",
   "execution_count": 21,
   "metadata": {},
   "outputs": [
    {
     "name": "stdout",
     "output_type": "stream",
     "text": [
      "b0 : 135.55908643689511\n"
     ]
    }
   ],
   "source": [
    "b0=meany-(b1*meanx1)-(b2*meanx2)\n",
    "print(\"b0 :\",b0)"
   ]
  },
  {
   "cell_type": "code",
   "execution_count": 22,
   "metadata": {},
   "outputs": [
    {
     "name": "stdout",
     "output_type": "stream",
     "text": [
      "y = 135.55908643689511  + 0.08841804794066306 x1 + 0.1387235493756694 x2\n"
     ]
    }
   ],
   "source": [
    "print(\"y =\",b0,\" +\",b1,\"x1 +\",b2,\"x2\")"
   ]
  }
 ],
 "metadata": {
  "kernelspec": {
   "display_name": "Python 3.10.8 64-bit (microsoft store)",
   "language": "python",
   "name": "python3"
  },
  "language_info": {
   "codemirror_mode": {
    "name": "ipython",
    "version": 3
   },
   "file_extension": ".py",
   "mimetype": "text/x-python",
   "name": "python",
   "nbconvert_exporter": "python",
   "pygments_lexer": "ipython3",
   "version": "3.10.8"
  },
  "orig_nbformat": 4,
  "vscode": {
   "interpreter": {
    "hash": "c90c449489b725a1ae8d6956528ae36051e7d8d1f0bf55c9e2fc47cd79f8bafb"
   }
  }
 },
 "nbformat": 4,
 "nbformat_minor": 2
}
