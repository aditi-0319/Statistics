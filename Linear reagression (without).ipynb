{
 "cells": [
  {
   "cell_type": "code",
   "execution_count": 1,
   "metadata": {},
   "outputs": [],
   "source": [
    "import pandas as pd\n",
    "import numpy as np\n",
    "import matplotlib.pyplot as plt\n",
    "from cProfile import label"
   ]
  },
  {
   "cell_type": "code",
   "execution_count": 2,
   "metadata": {},
   "outputs": [
    {
     "name": "stdout",
     "output_type": "stream",
     "text": [
      "      mpg  weight\n",
      "0    18.0    3504\n",
      "1    15.0    3693\n",
      "2    18.0    3436\n",
      "3    16.0    3433\n",
      "4    17.0    3449\n",
      "..    ...     ...\n",
      "295  25.4    3530\n",
      "296  23.0    3900\n",
      "297  27.2    3190\n",
      "298  23.9    3420\n",
      "299  34.2    2200\n",
      "\n",
      "[300 rows x 2 columns]\n"
     ]
    }
   ],
   "source": [
    "df=pd.read_csv(\"Auto.csv\")\n",
    "print(df)"
   ]
  },
  {
   "cell_type": "code",
   "execution_count": 3,
   "metadata": {},
   "outputs": [
    {
     "data": {
      "image/png": "[encoded data removed]",
      "text/plain": [
       "<Figure size 640x480 with 1 Axes>"
      ]
     },
     "metadata": {},
     "output_type": "display_data"
    }
   ],
   "source": [
    "x = df['mpg']\n",
    "y = df['weight']\n",
    "df={\"mpg\":x,\"weight\":y}\n",
    "Data=pd.DataFrame(df)\n",
    "meanX = Data['mpg'].mean()\n",
    "meanY=Data['weight'].mean()\n",
    "plt.scatter(Data['mpg'],Data['weight'],marker=\".\")\n",
    "plt.show()"
   ]
  },
  {
   "cell_type": "code",
   "execution_count": 5,
   "metadata": {},
   "outputs": [
    {
     "name": "stdout",
     "output_type": "stream",
     "text": [
      "Mean of mpg(X)\n",
      "20.839333333333332\n",
      "Mean of Weight(Y)\n",
      "3135.33\n"
     ]
    }
   ],
   "source": [
    "Mean_of_x=Data[\"mpg\"].mean()\n",
    "Mean_of_y=Data[\"weight\"].mean()\n",
    "print(\"Mean of mpg(X)\")\n",
    "print(Mean_of_x)\n",
    "print(\"Mean of Weight(Y)\")\n",
    "print(Mean_of_y)"
   ]
  },
  {
   "cell_type": "code",
   "execution_count": 6,
   "metadata": {},
   "outputs": [
    {
     "name": "stdout",
     "output_type": "stream",
     "text": [
      "      mpg  weight  X=x-mean(x)  Y=y-mean(y)\n",
      "0    18.0    3504    -2.839333       368.67\n",
      "1    15.0    3693    -5.839333       557.67\n",
      "2    18.0    3436    -2.839333       300.67\n",
      "3    16.0    3433    -4.839333       297.67\n",
      "4    17.0    3449    -3.839333       313.67\n",
      "..    ...     ...          ...          ...\n",
      "295  25.4    3530     4.560667       394.67\n",
      "296  23.0    3900     2.160667       764.67\n",
      "297  27.2    3190     6.360667        54.67\n",
      "298  23.9    3420     3.060667       284.67\n",
      "299  34.2    2200    13.360667      -935.33\n",
      "\n",
      "[300 rows x 4 columns]\n"
     ]
    }
   ],
   "source": [
    "X=x-Mean_of_x\n",
    "Y=y-Mean_of_y\n",
    "Data[\"X=x-mean(x)\"]=X\n",
    "Data[\"Y=y-mean(y)\"]=Y\n",
    "print(Data)"
   ]
  },
  {
   "cell_type": "code",
   "execution_count": 7,
   "metadata": {},
   "outputs": [
    {
     "name": "stdout",
     "output_type": "stream",
     "text": [
      "      mpg  weight  X=x-mean(x)  Y=y-mean(y)            XY\n",
      "0    18.0    3504    -2.839333       368.67  -1046.777020\n",
      "1    15.0    3693    -5.839333       557.67  -3256.421020\n",
      "2    18.0    3436    -2.839333       300.67   -853.702353\n",
      "3    16.0    3433    -4.839333       297.67  -1440.524353\n",
      "4    17.0    3449    -3.839333       313.67  -1204.283687\n",
      "..    ...     ...          ...          ...           ...\n",
      "295  25.4    3530     4.560667       394.67   1799.958313\n",
      "296  23.0    3900     2.160667       764.67   1652.196980\n",
      "297  27.2    3190     6.360667        54.67    347.737647\n",
      "298  23.9    3420     3.060667       284.67    871.279980\n",
      "299  34.2    2200    13.360667      -935.33 -12496.632353\n",
      "\n",
      "[300 rows x 5 columns]\n"
     ]
    }
   ],
   "source": [
    "XY=X*Y\n",
    "Data[\"XY\"]=XY\n",
    "print(Data)"
   ]
  },
  {
   "cell_type": "code",
   "execution_count": 8,
   "metadata": {},
   "outputs": [
    {
     "name": "stdout",
     "output_type": "stream",
     "text": [
      "      mpg  weight  X=x-mean(x)  Y=y-mean(y)            XY         X^2  \\\n",
      "0    18.0    3504    -2.839333       368.67  -1046.777020    8.061814   \n",
      "1    15.0    3693    -5.839333       557.67  -3256.421020   34.097814   \n",
      "2    18.0    3436    -2.839333       300.67   -853.702353    8.061814   \n",
      "3    16.0    3433    -4.839333       297.67  -1440.524353   23.419147   \n",
      "4    17.0    3449    -3.839333       313.67  -1204.283687   14.740480   \n",
      "..    ...     ...          ...          ...           ...         ...   \n",
      "295  25.4    3530     4.560667       394.67   1799.958313   20.799680   \n",
      "296  23.0    3900     2.160667       764.67   1652.196980    4.668480   \n",
      "297  27.2    3190     6.360667        54.67    347.737647   40.458080   \n",
      "298  23.9    3420     3.060667       284.67    871.279980    9.367680   \n",
      "299  34.2    2200    13.360667      -935.33 -12496.632353  178.507414   \n",
      "\n",
      "             Y^2  \n",
      "0    135917.5689  \n",
      "1    310995.8289  \n",
      "2     90402.4489  \n",
      "3     88607.4289  \n",
      "4     98388.8689  \n",
      "..           ...  \n",
      "295  155764.4089  \n",
      "296  584720.2089  \n",
      "297    2988.8089  \n",
      "298   81037.0089  \n",
      "299  874842.2089  \n",
      "\n",
      "[300 rows x 7 columns]\n"
     ]
    }
   ],
   "source": [
    "sq_of_X=X**2\n",
    "sq_of_Y=Y**2\n",
    "Data[\"X^2\"]=sq_of_X\n",
    "Data[\"Y^2\"]=sq_of_Y\n",
    "print(Data)"
   ]
  },
  {
   "cell_type": "code",
   "execution_count": 9,
   "metadata": {},
   "outputs": [
    {
     "name": "stdout",
     "output_type": "stream",
     "text": [
      "Summation of X :\n",
      "11983.295866666667\n",
      "Summation of Y :\n",
      "233603780.32999998\n",
      "Summation of XY :\n",
      "-1469473.594\n"
     ]
    }
   ],
   "source": [
    "Mean_of_sq_of_X=sq_of_X.mean()\n",
    "Mean_of_sq_of_Y=sq_of_Y.mean()\n",
    "\n",
    "Summation_of_XY=XY.sum()\n",
    "Summation_of_sq_of_X=sq_of_X.sum()\n",
    "Summation_of_sq_of_Y=sq_of_Y.sum()\n",
    "print(\"Summation of X :\")\n",
    "print(Summation_of_sq_of_X)\n",
    "print(\"Summation of Y :\")\n",
    "print(Summation_of_sq_of_Y)\n",
    "print(\"Summation of XY :\")\n",
    "print(Summation_of_XY)"
   ]
  },
  {
   "cell_type": "code",
   "execution_count": 10,
   "metadata": {},
   "outputs": [
    {
     "name": "stdout",
     "output_type": "stream",
     "text": [
      "r :\n",
      "-0.8782814536196802\n",
      "Standard Deviation of X(BMI) :\n",
      "4.201005536876144\n",
      "Standard Deviation of Y(Charges) :\n",
      "586.5500094565849\n"
     ]
    }
   ],
   "source": [
    "r=(Summation_of_XY)/(pow((Summation_of_sq_of_X*Summation_of_sq_of_Y),0.5))\n",
    "stand_dev_of_x=pow((Summation_of_sq_of_X/679),0.5)\n",
    "stand_dev_of_y=pow((Summation_of_sq_of_Y/679),0.5)\n",
    "print(\"r :\")\n",
    "print(r)\n",
    "print(\"Standard Deviation of X(BMI) :\")\n",
    "print(stand_dev_of_x)\n",
    "print(\"Standard Deviation of Y(Charges) :\")\n",
    "print(stand_dev_of_y)"
   ]
  },
  {
   "cell_type": "code",
   "execution_count": 11,
   "metadata": {},
   "outputs": [
    {
     "name": "stdout",
     "output_type": "stream",
     "text": [
      "m : \n",
      "-122.62683074424966\n"
     ]
    }
   ],
   "source": [
    "m=r*(stand_dev_of_y/stand_dev_of_x)\n",
    "print(\"m : \")\n",
    "print(m)"
   ]
  },
  {
   "cell_type": "code",
   "execution_count": 13,
   "metadata": {},
   "outputs": [
    {
     "data": {
      "image/png": "[encoded data removed]",
      "text/plain": [
       "<Figure size 640x480 with 1 Axes>"
      ]
     },
     "metadata": {},
     "output_type": "display_data"
    }
   ],
   "source": [
    "a=Mean_of_y-(m*Mean_of_x)\n",
    "y=m*Data['mpg']+a\n",
    "\n",
    "a=Mean_of_y-(m*Mean_of_x)\n",
    "y=m*Data['mpg']+a\n",
    "plt.scatter(Data['mpg'],Data['weight'],marker=\".\")\n",
    "plt.scatter(x,y,marker=\".\")\n",
    "plt.show()"
   ]
  }
 ],
 "metadata": {
  "kernelspec": {
   "display_name": "Python 3.10.8 64-bit (microsoft store)",
   "language": "python",
   "name": "python3"
  },
  "language_info": {
   "codemirror_mode": {
    "name": "ipython",
    "version": 3
   },
   "file_extension": ".py",
   "mimetype": "text/x-python",
   "name": "python",
   "nbconvert_exporter": "python",
   "pygments_lexer": "ipython3",
   "version": "3.10.8"
  },
  "orig_nbformat": 4,
  "vscode": {
   "interpreter": {
    "hash": "c90c449489b725a1ae8d6956528ae36051e7d8d1f0bf55c9e2fc47cd79f8bafb"
   }
  }
 },
 "nbformat": 4,
 "nbformat_minor": 2
}
