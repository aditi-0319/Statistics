{
 "cells": [
  {
   "cell_type": "code",
   "execution_count": null,
   "metadata": {},
   "outputs": [],
   "source": [
    "    \"\"\"\n",
    "    X(pressure (lb/sq in) of liquid nitrogen)=[75.1,74.3,88.7,114.6,98.5,112,114.8,62.2,107,90.5,73.8]\n",
    "    Y(weight in pounds of liquid nitrogen)=[577.8,577,570.9,578.6,572.4,411.2,531.7,563.9,406.7,507.1,496.4] \n",
    "    \n",
    "    (1)find the values of B1 and B2  \n",
    "    \"\"\""
   ]
  },
  {
   "cell_type": "code",
   "execution_count": 1,
   "metadata": {},
   "outputs": [],
   "source": [
    "import pandas as pd\n",
    "import numpy as np\n",
    "import matplotlib.pyplot as plt"
   ]
  },
  {
   "cell_type": "code",
   "execution_count": 2,
   "metadata": {},
   "outputs": [
    {
     "name": "stdout",
     "output_type": "stream",
     "text": [
      "       x      y\n",
      "0   75.1  577.8\n",
      "1   74.3  577.0\n",
      "2   88.7  570.9\n",
      "3  114.6  578.6\n",
      "4   98.5  572.4\n",
      "5  112.0  411.2\n",
      "6  114.8  531.7\n",
      "7   62.2  563.9\n"
     ]
    }
   ],
   "source": [
    "x=[75.1,74.3,88.7,114.6,98.5,112,114.8,62.2]\n",
    "y=[577.8,577,570.9,578.6,572.4,411.2,531.7,563.9]\n",
    "df={\"x\":x,\"y\":y}\n",
    "df=pd.DataFrame(df)\n",
    "df['x']=df['x'].astype(np.float64)\n",
    "df['y']=df['y'].astype(np.float64)\n",
    "print(df)"
   ]
  },
  {
   "cell_type": "code",
   "execution_count": null,
   "metadata": {},
   "outputs": [],
   "source": [
    "sumx=x.sum()\n",
    "sumy="
   ]
  },
  {
   "cell_type": "code",
   "execution_count": 3,
   "metadata": {},
   "outputs": [
    {
     "data": {
      "image/png": "[encoded data removed]",
      "text/plain": [
       "<Figure size 640x480 with 1 Axes>"
      ]
     },
     "metadata": {},
     "output_type": "display_data"
    }
   ],
   "source": [
    "plt.scatter(x,y,marker=\".\")\n",
    "plt.show()"
   ]
  },
  {
   "cell_type": "code",
   "execution_count": 4,
   "metadata": {},
   "outputs": [
    {
     "name": "stdout",
     "output_type": "stream",
     "text": [
      "Mean of X\n",
      "92.525\n",
      "Mean of Y\n",
      "547.9375\n"
     ]
    }
   ],
   "source": [
    "Mean_of_x=df[\"x\"].mean()\n",
    "Mean_of_y=df[\"y\"].mean()\n",
    "print(\"Mean of X\")\n",
    "print(Mean_of_x)\n",
    "print(\"Mean of Y\")\n",
    "print(Mean_of_y)\n"
   ]
  },
  {
   "cell_type": "code",
   "execution_count": 5,
   "metadata": {},
   "outputs": [
    {
     "name": "stdout",
     "output_type": "stream",
     "text": [
      "       x      y  X=x-mean(x)  Y=y-mean(y)\n",
      "0   75.1  577.8      -17.425      29.8625\n",
      "1   74.3  577.0      -18.225      29.0625\n",
      "2   88.7  570.9       -3.825      22.9625\n",
      "3  114.6  578.6       22.075      30.6625\n",
      "4   98.5  572.4        5.975      24.4625\n",
      "5  112.0  411.2       19.475    -136.7375\n",
      "6  114.8  531.7       22.275     -16.2375\n",
      "7   62.2  563.9      -30.325      15.9625\n"
     ]
    }
   ],
   "source": [
    "X=x-Mean_of_x\n",
    "Y=y-Mean_of_y\n",
    "df[\"X=x-mean(x)\"]=X\n",
    "df[\"Y=y-mean(y)\"]=Y\n",
    "print(df)"
   ]
  },
  {
   "cell_type": "code",
   "execution_count": 6,
   "metadata": {},
   "outputs": [
    {
     "name": "stdout",
     "output_type": "stream",
     "text": [
      "       x      y  X=x-mean(x)  Y=y-mean(y)           XY\n",
      "0   75.1  577.8      -17.425      29.8625  -520.354062\n",
      "1   74.3  577.0      -18.225      29.0625  -529.664063\n",
      "2   88.7  570.9       -3.825      22.9625   -87.831562\n",
      "3  114.6  578.6       22.075      30.6625   676.874688\n",
      "4   98.5  572.4        5.975      24.4625   146.163437\n",
      "5  112.0  411.2       19.475    -136.7375 -2662.962812\n",
      "6  114.8  531.7       22.275     -16.2375  -361.690312\n",
      "7   62.2  563.9      -30.325      15.9625  -484.062812\n"
     ]
    }
   ],
   "source": [
    "XY=X*Y\n",
    "df[\"XY\"]=XY\n",
    "print(df)"
   ]
  },
  {
   "cell_type": "code",
   "execution_count": 7,
   "metadata": {},
   "outputs": [
    {
     "name": "stdout",
     "output_type": "stream",
     "text": [
      "       x      y  X=x-mean(x)  Y=y-mean(y)           XY         X^2  \\\n",
      "0   75.1  577.8      -17.425      29.8625  -520.354062  303.630625   \n",
      "1   74.3  577.0      -18.225      29.0625  -529.664063  332.150625   \n",
      "2   88.7  570.9       -3.825      22.9625   -87.831562   14.630625   \n",
      "3  114.6  578.6       22.075      30.6625   676.874688  487.305625   \n",
      "4   98.5  572.4        5.975      24.4625   146.163437   35.700625   \n",
      "5  112.0  411.2       19.475    -136.7375 -2662.962812  379.275625   \n",
      "6  114.8  531.7       22.275     -16.2375  -361.690312  496.175625   \n",
      "7   62.2  563.9      -30.325      15.9625  -484.062812  919.605625   \n",
      "\n",
      "            Y^2  \n",
      "0    891.768906  \n",
      "1    844.628906  \n",
      "2    527.276406  \n",
      "3    940.188906  \n",
      "4    598.413906  \n",
      "5  18697.143906  \n",
      "6    263.656406  \n",
      "7    254.801406  \n"
     ]
    }
   ],
   "source": [
    "sq_of_X=X**2\n",
    "sq_of_Y=Y**2\n",
    "df[\"X^2\"]=sq_of_X\n",
    "df[\"Y^2\"]=sq_of_Y\n",
    "print(df)"
   ]
  },
  {
   "cell_type": "code",
   "execution_count": 8,
   "metadata": {},
   "outputs": [
    {
     "name": "stdout",
     "output_type": "stream",
     "text": [
      "Summation of X :\n",
      "2968.4749999999995\n",
      "Summation of Y :\n",
      "23017.878749999996\n",
      "Summation of XY :\n",
      "-3823.5274999999974\n"
     ]
    }
   ],
   "source": [
    "Mean_of_sq_of_X=sq_of_X.mean()\n",
    "Mean_of_sq_of_Y=sq_of_Y.mean()\n",
    "\n",
    "Summation_of_XY=XY.sum()\n",
    "Summation_of_sq_of_X=sq_of_X.sum()\n",
    "Summation_of_sq_of_Y=sq_of_Y.sum()\n",
    "print(\"Summation of X :\")\n",
    "print(Summation_of_sq_of_X)\n",
    "print(\"Summation of Y :\")\n",
    "print(Summation_of_sq_of_Y)\n",
    "print(\"Summation of XY :\")\n",
    "print(Summation_of_XY)"
   ]
  },
  {
   "cell_type": "code",
   "execution_count": 9,
   "metadata": {},
   "outputs": [
    {
     "name": "stdout",
     "output_type": "stream",
     "text": [
      "r :\n",
      "-0.46255658846136843\n",
      "Standard Deviation of X :\n",
      "24.365857259698455\n",
      "Standard Deviation of Y :\n",
      "67.84965548917694\n"
     ]
    }
   ],
   "source": [
    "r=(Summation_of_XY)/(pow((Summation_of_sq_of_X*Summation_of_sq_of_Y),0.5))\n",
    "stand_dev_of_x=pow((Summation_of_sq_of_X/5),0.5)\n",
    "stand_dev_of_y=pow((Summation_of_sq_of_Y/5),0.5)\n",
    "print(\"r :\")\n",
    "print(r)\n",
    "print(\"Standard Deviation of X :\")\n",
    "print(stand_dev_of_x)\n",
    "print(\"Standard Deviation of Y :\")\n",
    "print(stand_dev_of_y)"
   ]
  },
  {
   "cell_type": "code",
   "execution_count": 10,
   "metadata": {},
   "outputs": [
    {
     "name": "stdout",
     "output_type": "stream",
     "text": [
      "m : \n",
      "-1.2880443662149752\n"
     ]
    }
   ],
   "source": [
    "m=r*(stand_dev_of_y/stand_dev_of_x)\n",
    "print(\"m : \")\n",
    "print(m)"
   ]
  },
  {
   "cell_type": "code",
   "execution_count": 11,
   "metadata": {},
   "outputs": [
    {
     "data": {
      "image/png": "[encoded data removed]",
      "text/plain": [
       "<Figure size 640x480 with 1 Axes>"
      ]
     },
     "metadata": {},
     "output_type": "display_data"
    }
   ],
   "source": [
    "a=Mean_of_y-(m*Mean_of_x)\n",
    "y=m*df['x']+a\n",
    "\n",
    "a=Mean_of_y-(m*Mean_of_x)\n",
    "y=m*df['x']+a\n",
    "plt.scatter(df['x'],df['y'],marker=\".\")\n",
    "plt.scatter(x,y,marker=\".\")\n",
    "plt.show()"
   ]
  }
 ],
 "metadata": {
  "kernelspec": {
   "display_name": "Python 3.10.8 64-bit (microsoft store)",
   "language": "python",
   "name": "python3"
  },
  "language_info": {
   "codemirror_mode": {
    "name": "ipython",
    "version": 3
   },
   "file_extension": ".py",
   "mimetype": "text/x-python",
   "name": "python",
   "nbconvert_exporter": "python",
   "pygments_lexer": "ipython3",
   "version": "3.10.9 (tags/v3.10.9:1dd9be6, Dec  6 2022, 20:01:21) [MSC v.1934 64 bit (AMD64)]"
  },
  "orig_nbformat": 4,
  "vscode": {
   "interpreter": {
    "hash": "c90c449489b725a1ae8d6956528ae36051e7d8d1f0bf55c9e2fc47cd79f8bafb"
   }
  }
 },
 "nbformat": 4,
 "nbformat_minor": 2
}
