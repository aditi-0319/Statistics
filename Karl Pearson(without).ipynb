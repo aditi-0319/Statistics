{
 "cells": [
  {
   "cell_type": "code",
   "execution_count": 1,
   "metadata": {},
   "outputs": [],
   "source": [
    "import numpy as np \n",
    "import pandas as pd"
   ]
  },
  {
   "cell_type": "code",
   "execution_count": 2,
   "metadata": {},
   "outputs": [
    {
     "name": "stdout",
     "output_type": "stream",
     "text": [
      "      mpg  weight\n",
      "0    18.0    3504\n",
      "1    15.0    3693\n",
      "2    18.0    3436\n",
      "3    16.0    3433\n",
      "4    17.0    3449\n",
      "..    ...     ...\n",
      "295  25.4    3530\n",
      "296  23.0    3900\n",
      "297  27.2    3190\n",
      "298  23.9    3420\n",
      "299  34.2    2200\n",
      "\n",
      "[300 rows x 2 columns]\n"
     ]
    }
   ],
   "source": [
    "df=pd.read_csv(\"Auto.csv\")\n",
    "print(df)"
   ]
  },
  {
   "cell_type": "code",
   "execution_count": 3,
   "metadata": {},
   "outputs": [
    {
     "name": "stdout",
     "output_type": "stream",
     "text": [
      "      mpg  weight          X       Y\n",
      "0    18.0    3504  -2.839333  368.67\n",
      "1    15.0    3693  -5.839333  557.67\n",
      "2    18.0    3436  -2.839333  300.67\n",
      "3    16.0    3433  -4.839333  297.67\n",
      "4    17.0    3449  -3.839333  313.67\n",
      "..    ...     ...        ...     ...\n",
      "295  25.4    3530   4.560667  394.67\n",
      "296  23.0    3900   2.160667  764.67\n",
      "297  27.2    3190   6.360667   54.67\n",
      "298  23.9    3420   3.060667  284.67\n",
      "299  34.2    2200  13.360667 -935.33\n",
      "\n",
      "[300 rows x 4 columns]\n"
     ]
    }
   ],
   "source": [
    "x=df['mpg']\n",
    "y=df['weight']\n",
    "Mean_of_X=x.mean()\n",
    "Mean_of_Y=y.mean()\n",
    "X=x-Mean_of_X\n",
    "Y=y-Mean_of_Y\n",
    "df[\"X\"]=X\n",
    "df[\"Y\"]=Y\n",
    "print(df)"
   ]
  },
  {
   "cell_type": "code",
   "execution_count": 4,
   "metadata": {},
   "outputs": [
    {
     "name": "stdout",
     "output_type": "stream",
     "text": [
      "      mpg  weight          X       Y            XY\n",
      "0    18.0    3504  -2.839333  368.67  -1046.777020\n",
      "1    15.0    3693  -5.839333  557.67  -3256.421020\n",
      "2    18.0    3436  -2.839333  300.67   -853.702353\n",
      "3    16.0    3433  -4.839333  297.67  -1440.524353\n",
      "4    17.0    3449  -3.839333  313.67  -1204.283687\n",
      "..    ...     ...        ...     ...           ...\n",
      "295  25.4    3530   4.560667  394.67   1799.958313\n",
      "296  23.0    3900   2.160667  764.67   1652.196980\n",
      "297  27.2    3190   6.360667   54.67    347.737647\n",
      "298  23.9    3420   3.060667  284.67    871.279980\n",
      "299  34.2    2200  13.360667 -935.33 -12496.632353\n",
      "\n",
      "[300 rows x 5 columns]\n"
     ]
    }
   ],
   "source": [
    "XY=X*Y\n",
    "df[\"XY\"]=XY\n",
    "print(df)"
   ]
  },
  {
   "cell_type": "code",
   "execution_count": 5,
   "metadata": {},
   "outputs": [
    {
     "name": "stdout",
     "output_type": "stream",
     "text": [
      "      mpg  weight          X       Y            XY         X^2          Y^2\n",
      "0    18.0    3504  -2.839333  368.67  -1046.777020    8.061814  135917.5689\n",
      "1    15.0    3693  -5.839333  557.67  -3256.421020   34.097814  310995.8289\n",
      "2    18.0    3436  -2.839333  300.67   -853.702353    8.061814   90402.4489\n",
      "3    16.0    3433  -4.839333  297.67  -1440.524353   23.419147   88607.4289\n",
      "4    17.0    3449  -3.839333  313.67  -1204.283687   14.740480   98388.8689\n",
      "..    ...     ...        ...     ...           ...         ...          ...\n",
      "295  25.4    3530   4.560667  394.67   1799.958313   20.799680  155764.4089\n",
      "296  23.0    3900   2.160667  764.67   1652.196980    4.668480  584720.2089\n",
      "297  27.2    3190   6.360667   54.67    347.737647   40.458080    2988.8089\n",
      "298  23.9    3420   3.060667  284.67    871.279980    9.367680   81037.0089\n",
      "299  34.2    2200  13.360667 -935.33 -12496.632353  178.507414  874842.2089\n",
      "\n",
      "[300 rows x 7 columns]\n"
     ]
    }
   ],
   "source": [
    "sq_X=X**2\n",
    "sq_Y=Y**2\n",
    "df[\"X^2\"]=sq_X\n",
    "df[\"Y^2\"]=sq_Y\n",
    "print(df)"
   ]
  },
  {
   "cell_type": "code",
   "execution_count": 6,
   "metadata": {},
   "outputs": [
    {
     "name": "stdout",
     "output_type": "stream",
     "text": [
      "Sum of square of X : \n",
      "11983.295866666667\n",
      "Sum of square of Y : \n",
      "233603780.32999998\n",
      "Sum of XY : \n",
      "-1469473.594\n"
     ]
    }
   ],
   "source": [
    "sum_of_sq_of_X=sq_X.sum()\n",
    "sum_of_sq_of_Y=sq_Y.sum()\n",
    "sum_of_XY=XY.sum()\n",
    "print(\"Sum of square of X : \")\n",
    "print(sum_of_sq_of_X)\n",
    "print(\"Sum of square of Y : \")\n",
    "print(sum_of_sq_of_Y)\n",
    "print(\"Sum of XY : \")\n",
    "print(sum_of_XY)"
   ]
  },
  {
   "cell_type": "code",
   "execution_count": 7,
   "metadata": {},
   "outputs": [
    {
     "name": "stdout",
     "output_type": "stream",
     "text": [
      "Karl Pearson's coefficient :\n",
      "-0.8782814536196802\n"
     ]
    }
   ],
   "source": [
    "r=(sum_of_XY)/((sum_of_sq_of_X**0.5)*(sum_of_sq_of_Y**0.5))\n",
    "print(\"Karl Pearson's coefficient :\")\n",
    "print(r)"
   ]
  }
 ],
 "metadata": {
  "kernelspec": {
   "display_name": "Python 3.10.8 64-bit (microsoft store)",
   "language": "python",
   "name": "python3"
  },
  "language_info": {
   "codemirror_mode": {
    "name": "ipython",
    "version": 3
   },
   "file_extension": ".py",
   "mimetype": "text/x-python",
   "name": "python",
   "nbconvert_exporter": "python",
   "pygments_lexer": "ipython3",
   "version": "3.10.8"
  },
  "orig_nbformat": 4,
  "vscode": {
   "interpreter": {
    "hash": "c90c449489b725a1ae8d6956528ae36051e7d8d1f0bf55c9e2fc47cd79f8bafb"
   }
  }
 },
 "nbformat": 4,
 "nbformat_minor": 2
}
