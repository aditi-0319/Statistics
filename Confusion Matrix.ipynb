{
 "cells": [
  {
   "cell_type": "code",
   "execution_count": 8,
   "metadata": {},
   "outputs": [],
   "source": [
    "import pandas as pd\n",
    "import numpy as np\n",
    "import matplotlib.pyplot as plt\n",
    "import seaborn as sns\n",
    "from sklearn import metrics"
   ]
  },
  {
   "cell_type": "code",
   "execution_count": 28,
   "metadata": {},
   "outputs": [
    {
     "name": "stdout",
     "output_type": "stream",
     "text": [
      "    Actual  Predicted\n",
      "0        1          1\n",
      "1        0          1\n",
      "2        0          0\n",
      "3        1          1\n",
      "4        1          0\n",
      "5        1          1\n",
      "6        0          1\n",
      "7        0          0\n",
      "8        1          1\n",
      "9        0          0\n",
      "10       1          0\n",
      "11       0          1\n"
     ]
    }
   ],
   "source": [
    "data = {'Actual':    [1, 0, 0, 1, 1, 1, 0, 0, 1, 0, 1,0],\n",
    "        'Predicted': [1, 1, 0, 1, 0, 1, 1, 0, 1, 0, 0,1]\n",
    "        }\n",
    "Actual=data['Actual']\n",
    "Predicted=data['Predicted']\n",
    "df = pd.DataFrame(data)\n",
    "print(df)"
   ]
  },
  {
   "cell_type": "code",
   "execution_count": 29,
   "metadata": {},
   "outputs": [
    {
     "name": "stdout",
     "output_type": "stream",
     "text": [
      "Predicted  0  1\n",
      "Actual         \n",
      "0          3  3\n",
      "1          2  4\n"
     ]
    }
   ],
   "source": [
    "confusion_matrix = pd.crosstab(df['Actual'], df['Predicted'], rownames=['Actual'], colnames=['Predicted'])\n",
    "print (confusion_matrix)"
   ]
  },
  {
   "cell_type": "code",
   "execution_count": 30,
   "metadata": {},
   "outputs": [
    {
     "data": {
      "image/png": "[encoded data removed]",
      "text/plain": [
       "<Figure size 640x480 with 2 Axes>"
      ]
     },
     "metadata": {},
     "output_type": "display_data"
    }
   ],
   "source": [
    "sns.heatmap(confusion_matrix, annot=True)\n",
    "plt.show()"
   ]
  },
  {
   "cell_type": "code",
   "execution_count": 31,
   "metadata": {},
   "outputs": [
    {
     "name": "stdout",
     "output_type": "stream",
     "text": [
      "Accuracy :\n",
      "0.5833333333333334\n"
     ]
    }
   ],
   "source": [
    "Accuracy = metrics.accuracy_score(Actual, Predicted)\n",
    "print(\"Accuracy :\")\n",
    "print(Accuracy)"
   ]
  },
  {
   "cell_type": "code",
   "execution_count": 32,
   "metadata": {},
   "outputs": [
    {
     "name": "stdout",
     "output_type": "stream",
     "text": [
      "Precision :\n",
      "0.5714285714285714\n"
     ]
    }
   ],
   "source": [
    "Precision = metrics.precision_score(Actual, Predicted)\n",
    "print(\"Precision :\")\n",
    "print(Precision)"
   ]
  },
  {
   "cell_type": "code",
   "execution_count": 33,
   "metadata": {},
   "outputs": [
    {
     "name": "stdout",
     "output_type": "stream",
     "text": [
      "Recall :\n",
      "0.6666666666666666\n"
     ]
    }
   ],
   "source": [
    "Recall = metrics.recall_score(Actual, Predicted)\n",
    "print(\"Recall :\")\n",
    "print(Recall)"
   ]
  },
  {
   "cell_type": "code",
   "execution_count": 35,
   "metadata": {},
   "outputs": [
    {
     "name": "stdout",
     "output_type": "stream",
     "text": [
      "F1_score :\n",
      "0.6153846153846153\n"
     ]
    }
   ],
   "source": [
    "F1_score = metrics.f1_score(Actual, Predicted)\n",
    "print(\"F1_score :\")\n",
    "print(F1_score)"
   ]
  }
 ],
 "metadata": {
  "kernelspec": {
   "display_name": "Python 3.10.8 64-bit (microsoft store)",
   "language": "python",
   "name": "python3"
  },
  "language_info": {
   "codemirror_mode": {
    "name": "ipython",
    "version": 3
   },
   "file_extension": ".py",
   "mimetype": "text/x-python",
   "name": "python",
   "nbconvert_exporter": "python",
   "pygments_lexer": "ipython3",
   "version": "3.10.8"
  },
  "orig_nbformat": 4,
  "vscode": {
   "interpreter": {
    "hash": "c90c449489b725a1ae8d6956528ae36051e7d8d1f0bf55c9e2fc47cd79f8bafb"
   }
  }
 },
 "nbformat": 4,
 "nbformat_minor": 2
}
